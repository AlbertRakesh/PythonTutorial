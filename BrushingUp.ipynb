{
 "cells": [
  {
   "cell_type": "code",
   "execution_count": 1,
   "id": "a049e4c7",
   "metadata": {},
   "outputs": [
    {
     "name": "stdout",
     "output_type": "stream",
     "text": [
      "1000000\n"
     ]
    }
   ],
   "source": [
    "A= 1_0_0_0\n",
    "B = 1000\n",
    "Total = A*B\n",
    "print(Total)"
   ]
  },
  {
   "cell_type": "code",
   "execution_count": 2,
   "id": "7e6cce9a",
   "metadata": {},
   "outputs": [
    {
     "name": "stdout",
     "output_type": "stream",
     "text": [
      "['STRING', 1, 2, 3, ['A new item'], 'Rakesh']\n",
      "The item is : STRING\n",
      "The item is : 1\n",
      "The item is : 2\n",
      "The item is : 3\n",
      "The item is : ['A new item']\n",
      "The item is : Rakesh\n",
      "Name rakesh\n",
      "Name Aryan\n",
      "NAME rakesh\n",
      "NAME Aryan\n",
      "NAME PINKY\n",
      "NAME Rashmi\n"
     ]
    }
   ],
   "source": [
    "# List \n",
    "lst = [\"STRING\", 1,2,3,[\"A new item\"], \"Rakesh\"]\n",
    "print(lst)\n",
    "for item in lst:\n",
    "    print(\"The item is :\",item)\n",
    "names = [\"rakesh\", \"Aryan\"]\n",
    "for name in names:\n",
    "    print(\"Name\",name)\n",
    "\n",
    "\n",
    "names.append(\"PINKY\")\n",
    "names.append(\"Rashmi\")\n",
    "\n",
    "\n",
    "for name in names:\n",
    "    print(\"NAME\",name)"
   ]
  },
  {
   "cell_type": "code",
   "execution_count": 3,
   "id": "cfaf3612",
   "metadata": {},
   "outputs": [
    {
     "name": "stdout",
     "output_type": "stream",
     "text": [
      "Rashmi\n"
     ]
    }
   ],
   "source": [
    "\n",
    "# It gets the last member \n",
    "ras = names.pop()\n",
    "print(ras)"
   ]
  },
  {
   "cell_type": "code",
   "execution_count": 26,
   "id": "f1960f3f",
   "metadata": {},
   "outputs": [
    {
     "name": "stdout",
     "output_type": "stream",
     "text": [
      "Person key\n",
      "Person name\n",
      "Person twitter\n",
      "Person fb\n",
      "value\n",
      "key\n",
      "name\n",
      "twitter\n",
      "fb\n",
      "home\n",
      "key\n",
      "name\n",
      "twitter\n",
      "home\n",
      "The key is key and the value is value\n",
      "The key is name and the value is Rakesh\n",
      "The key is twitter and the value is @AlbertRakesh\n",
      "The key is home and the value is Pikrijrana\n"
     ]
    }
   ],
   "source": [
    "# Dictionary\n",
    "\n",
    "person = {\"key\":\"value\",\n",
    "          \n",
    "          \"name\": \"Rakesh\",\n",
    "          \"twitter\":\"@AlbertRakesh\",\n",
    "          \"fb\": \"@RakeshNaik\"\n",
    "\n",
    "}\n",
    "\n",
    "\n",
    "for per in person:\n",
    "    print(\"Person\",per)\n",
    "\n",
    "\n",
    "print(person[\"key\"])\n",
    "\n",
    "person [\"home\"]= \"Pikrijrana\"\n",
    "\n",
    "\n",
    "for per in person:\n",
    "    print(per)\n",
    "\n",
    "del person[\"fb\"]\n",
    "\n",
    "\n",
    "for per in person:\n",
    "    print(per)\n",
    "\n",
    "for key, value in person.items():\n",
    "    print(f\"The key is {key} and the value is {value}\")\n",
    "\n"
   ]
  },
  {
   "cell_type": "code",
   "execution_count": 22,
   "id": "557bf524",
   "metadata": {},
   "outputs": [
    {
     "name": "stdout",
     "output_type": "stream",
     "text": [
      "Rakesh\n",
      "Rashmi\n",
      "{'Math': 95, 'Science': 80}\n",
      "{'Math': 92, 'Economics': 80}\n"
     ]
    }
   ],
   "source": [
    "#Dictionary within Dictionary\n",
    "\n",
    "students = {\"Rakesh\": {\"Math\":95, \"Science\":80}, \"Rashmi\":{\"Math\":92, \"Economics\":80}}\n",
    "for stud in students:\n",
    "    print(stud)\n",
    "\n",
    "print(students[\"Rakesh\"])\n",
    "print(students[\"Rashmi\"])"
   ]
  },
  {
   "cell_type": "code",
   "execution_count": 6,
   "id": "08e887fc",
   "metadata": {},
   "outputs": [
    {
     "name": "stdout",
     "output_type": "stream",
     "text": [
      "('Pizza', 'Orange', 'Apple', 'Pasta')\n",
      "The food is: Pizza\n",
      "The food is: Orange\n",
      "The food is: Apple\n",
      "The food is: Pasta\n"
     ]
    }
   ],
   "source": [
    "#Tuple is immutable (Not changable)\n",
    "\n",
    "foods = (\"Pizza\", \"Orange\", \"Apple\", \"Pasta\")\n",
    "print(foods)\n",
    "for food in foods:\n",
    "    print(\"The food is:\", food)\n"
   ]
  },
  {
   "cell_type": "code",
   "execution_count": 7,
   "id": "ae348c06",
   "metadata": {},
   "outputs": [
    {
     "name": "stdout",
     "output_type": "stream",
     "text": [
      "{'Apple', 5, 'A', 'Rakesh'}\n",
      "['apples', 'mango', 'apples', 'tomato', 'banana']\n",
      "('apples', 'mango', 'apples', 'tomato', 'banana')\n",
      "{'apples', 'mango', 'banana', 'tomato'}\n"
     ]
    }
   ],
   "source": [
    "\n",
    "# Set Doesn't maintain order)\n",
    "# Set are completely unique\n",
    "\n",
    "s = {5,\"A\", \"Apple\", \"Rakesh\"}\n",
    "print(s)\n",
    "\n",
    "groceryList = [\"apples\", \"mango\", \"apples\", \"tomato\", \"banana\"]#List\n",
    "print(groceryList)\n",
    "\n",
    "groceryList=tuple(groceryList) #Casting into tuple\n",
    "print(groceryList)\n",
    "\n",
    "groceryList=set(groceryList)\n",
    "\n",
    "print(groceryList) ## Here the Grocery is Set Data Type so every \n",
    "#elements are unique\n",
    "\n",
    " "
   ]
  },
  {
   "cell_type": "code",
   "execution_count": 8,
   "id": "8b087462",
   "metadata": {},
   "outputs": [
    {
     "name": "stdout",
     "output_type": "stream",
     "text": [
      "True\n",
      "Yeah working\n"
     ]
    }
   ],
   "source": [
    "# Boolean\n",
    "Hey = \"Rakesh\"\n",
    "if Hey:\n",
    "    print(\"True\")\n",
    "\n",
    "Rakesh = 1\n",
    "if Rakesh :\n",
    "    print(\"Yeah working\")\n"
   ]
  },
  {
   "cell_type": "code",
   "execution_count": 9,
   "id": "344327b6",
   "metadata": {},
   "outputs": [
    {
     "name": "stdout",
     "output_type": "stream",
     "text": [
      "There is nothing in my wallet\n"
     ]
    }
   ],
   "source": [
    "\n",
    "# NONE\n",
    "\n",
    "wallet = None\n",
    "\n",
    "if wallet is None:\n",
    "    print(\"There is nothing in my wallet\")"
   ]
  },
  {
   "cell_type": "code",
   "execution_count": 10,
   "id": "d2035444",
   "metadata": {},
   "outputs": [
    {
     "name": "stdout",
     "output_type": "stream",
     "text": [
      "Rashmi\n",
      "['Rakesh', 'Aryan', 'Pinky']\n",
      "['Rakesh', 'Aryan', 'Pinky', 'Rashmi', 'Sneeti']\n",
      "['Rakesh', 'Aryan', 'Pinky', 'Rashmi', 'Sneeti']\n",
      "['Sneeti']\n",
      "['Rakesh', 'Aryan', 'Pinky', 'Rashmi', 'Sneeti']\n",
      "['Rakesh', 'Aryan', 'Pinky', 'Rashmi', 'Sneeti']\n",
      "['Sneeti', 'Rashmi', 'Pinky', 'Aryan', 'Rakesh']\n",
      "['Sneeti', 'Rakesh']\n",
      "['Sneeti', 'Aryan']\n"
     ]
    }
   ],
   "source": [
    "##Slicing and Indexing\n",
    "\n",
    "\n",
    "rakeshlist = [\"Rakesh\",\"Aryan\",\"Pinky\",\"Rashmi\",\"Sneeti\"]\n",
    "# indexing    0,          1,     2,        3,        4\n",
    "# BackIndex  -5,         -4,    -3,       -2,      ,-1\n",
    "\n",
    "\n",
    "print(rakeshlist[3])\n",
    "print(rakeshlist[0:3])# goes upto the 3rd not include the 3rd(Goes like 0,1,2 index)\n",
    "print(rakeshlist[0::])#goes till the end\n",
    "print(rakeshlist[0::])#goes till the end\n",
    "print(rakeshlist[-1::])\n",
    "print(rakeshlist[-5::])\n",
    "print(rakeshlist[-6::])\n",
    "print(rakeshlist[::-1])#write backward\n",
    "print(rakeshlist[::-4])#write backward\n",
    "print(rakeshlist[::-3])#write backward"
   ]
  },
  {
   "cell_type": "code",
   "execution_count": 11,
   "id": "054c9024",
   "metadata": {},
   "outputs": [
    {
     "name": "stdout",
     "output_type": "stream",
     "text": [
      " What is your age: \n",
      "You're age is :  \n",
      "What's your name buddy:\n",
      "Helllooooooooo........  Your Age is :  \n"
     ]
    }
   ],
   "source": [
    "#Accepting User Input\n",
    "age = input(\" What is your age: \")\n",
    "print(\"You're age is : \", age)\n",
    "\n",
    "name = input (\"What's your name buddy:\")\n",
    "print(\"Helllooooooooo........\", name, \"Your Age is : \", age)\n"
   ]
  },
  {
   "cell_type": "code",
   "execution_count": 11,
   "id": "2508058a",
   "metadata": {},
   "outputs": [
    {
     "name": "stdout",
     "output_type": "stream",
     "text": [
      "What's your age? 12\n",
      "<class 'str'>\n",
      "<class 'int'>\n"
     ]
    }
   ],
   "source": [
    "\n",
    "# type casting \n",
    "age = input (\"What's your age? \")\n",
    "data_type = type(age)\n",
    "print(data_type)\n",
    "\n",
    "age = int(age)\n",
    "data_type = type(age)\n",
    "print(data_type)"
   ]
  },
  {
   "cell_type": "code",
   "execution_count": null,
   "id": "6109b592",
   "metadata": {},
   "outputs": [],
   "source": [
    "# Print Formatting \n",
    "name= \"Rakesh\"\n",
    "welcome_messages = \"Hello {} Welcome to Python 101\".format(name)\n",
    "print(welcome_messages)\n",
    "\n",
    "welcome_messages = f\"Hello {name} Welcome to Python 101\"\n",
    "print(welcome_messages)\n",
    "\n",
    "\n",
    "welcome_messages = f\"Hello %s Welcome to Python 101\"%name\n",
    "print(welcome_messages)"
   ]
  },
  {
   "cell_type": "code",
   "execution_count": null,
   "id": "ce2c51c3",
   "metadata": {},
   "outputs": [],
   "source": [
    "can_code = True\n",
    "\n",
    "if can_code == True:\n",
    "    #do a thing \n",
    "    print(\"You can Code!\")\n",
    "else:\n",
    "    print(\"You don't know how to code yet\")"
   ]
  },
  {
   "cell_type": "code",
   "execution_count": 13,
   "id": "9902973b",
   "metadata": {},
   "outputs": [
    {
     "name": "stdout",
     "output_type": "stream",
     "text": [
      "What is your name dude ?\n",
      "The hell you are not Rakesh! Get out of here\n"
     ]
    }
   ],
   "source": [
    "name = input(\"What is your name dude ?\")\n",
    "if name == \"Rakesh\":\n",
    "    print(\"Welcome Rakesh\")\n",
    "else:\n",
    "    print(\"The hell you are not Rakesh! Get out of here\")"
   ]
  },
  {
   "cell_type": "code",
   "execution_count": 14,
   "id": "39deedfe",
   "metadata": {},
   "outputs": [
    {
     "name": "stdout",
     "output_type": "stream",
     "text": [
      "What is your name dude ?\n",
      "The hell you are not Rakesh! Get out of here\n",
      "You are eating Salmon\n"
     ]
    }
   ],
   "source": [
    "name = input(\"What is your name dude ?\")\n",
    "if name == \"Rakesh\":\n",
    "    print(\"Welcome Rakesh\")\n",
    "    bring_food = \"Pizza\"\n",
    "else:\n",
    "    print(\"The hell you are not Rakesh! Get out of here\")\n",
    "    bring_food = \"Salmon\"\n",
    "\n",
    "print(f\"You are eating {bring_food}\")"
   ]
  },
  {
   "cell_type": "code",
   "execution_count": 15,
   "id": "8a793c87",
   "metadata": {},
   "outputs": [
    {
     "name": "stdout",
     "output_type": "stream",
     "text": [
      "What is your name dude ?\n",
      "The hell you are not Rakesh! Get out of here\n",
      "You are eating Salmon\n"
     ]
    }
   ],
   "source": [
    "name = input(\"What is your name dude ?\")\n",
    "if name == \"Rakesh\":\n",
    "    print(\"Welcome Rakesh\")\n",
    "    bring_food = \"Pizza\"\n",
    "\n",
    "elif name == \"Sneeti\":\n",
    "    bring_food=\"Any Korean Food\"\n",
    "elif name == \"Aryan\":\n",
    "    bring_food=\" Chocolate\"\n",
    "else:\n",
    "    print(\"The hell you are not Rakesh! Get out of here\")\n",
    "    bring_food = \"Salmon\"\n",
    "\n",
    "print(f\"You are eating {bring_food}\")"
   ]
  },
  {
   "cell_type": "code",
   "execution_count": 16,
   "id": "3bc4b62c",
   "metadata": {},
   "outputs": [],
   "source": [
    "## Comparision Operator\n",
    "# > greater than\n",
    "# < Smaller than\n",
    "# == is the same\n",
    "# >= less than equal to\n",
    "# <= smaller than equal to\n",
    "# != not the same"
   ]
  },
  {
   "cell_type": "code",
   "execution_count": 19,
   "id": "5802800a",
   "metadata": {},
   "outputs": [
    {
     "name": "stdout",
     "output_type": "stream",
     "text": [
      "Please Enter you Age:19\n",
      "Now Eneter you name:Gopal\n",
      "I can drink alcohol\n"
     ]
    }
   ],
   "source": [
    "age= input(\"Please Enter you Age:\")\n",
    "age = int(age)   \n",
    "name = input(\"Now Eneter you name:\")\n",
    "if age >=18 and name ==\"Gopal\":\n",
    "    print(\"I can drink alcohol\")\n",
    "else:\n",
    "    print(\"don't do anything\")"
   ]
  },
  {
   "cell_type": "code",
   "execution_count": 20,
   "id": "33989b46",
   "metadata": {},
   "outputs": [
    {
     "name": "stdout",
     "output_type": "stream",
     "text": [
      "What size Pizza you wanna have: large\n",
      "You order a large pizza\n"
     ]
    }
   ],
   "source": [
    "fav_foods = ['Pizza', 'Tacos', 'Salmon']\n",
    "\n",
    "for food in fav_foods:\n",
    "    if food == \"Pizza\":\n",
    "        size = input(\"What size Pizza you wanna have: \")\n",
    "        print(f\"You order a {size} pizza\")"
   ]
  },
  {
   "cell_type": "code",
   "execution_count": 31,
   "id": "74e6d085",
   "metadata": {},
   "outputs": [
    {
     "name": "stdout",
     "output_type": "stream",
     "text": [
      "0\n",
      "1\n",
      "2\n",
      "3\n",
      "4\n",
      "5\n",
      "6\n",
      "7\n",
      "8\n",
      "9\n",
      "10\n"
     ]
    }
   ],
   "source": [
    "num =0\n",
    "while num<=10:\n",
    "    print(num)\n",
    "    num=num+1"
   ]
  },
  {
   "cell_type": "code",
   "execution_count": 45,
   "id": "15e7a55e",
   "metadata": {},
   "outputs": [
    {
     "name": "stdout",
     "output_type": "stream",
     "text": [
      "one\n",
      "three\n",
      "four\n",
      "five\n"
     ]
    }
   ],
   "source": [
    "#Continue(Escape the particular element print all other)\n",
    "\n",
    "items = [\"one\", \"two\", \"three\", \"four\", \"five\"]\n",
    "for item in items:\n",
    "    if item==\"two\":\n",
    "        continue\n",
    "    print(item)\n",
    "   \n",
    "    "
   ]
  },
  {
   "cell_type": "code",
   "execution_count": 1,
   "id": "e672d306",
   "metadata": {},
   "outputs": [
    {
     "name": "stdout",
     "output_type": "stream",
     "text": [
      "one\n",
      "two\n"
     ]
    }
   ],
   "source": [
    "#Break(Break when encounter element)\n",
    "\n",
    "items = [\"one\", \"two\", \"three\", \"four\", \"five\"]\n",
    "for item in items:\n",
    "    if item==\"three\":\n",
    "        break\n",
    "    print(item)"
   ]
  },
  {
   "cell_type": "code",
   "execution_count": 3,
   "id": "7d66bec1",
   "metadata": {},
   "outputs": [
    {
     "name": "stdout",
     "output_type": "stream",
     "text": [
      "1\n",
      "3\n",
      "5\n",
      "7\n",
      "9\n",
      "11\n",
      "13\n",
      "15\n",
      "17\n",
      "19\n",
      "21\n"
     ]
    }
   ],
   "source": [
    "num = 0\n",
    "while num<=20:\n",
    "    num = num+1\n",
    "    if num%2 == 0:\n",
    "        continue\n",
    "    print(num)\n",
    "    "
   ]
  },
  {
   "cell_type": "code",
   "execution_count": 5,
   "id": "8a0d7089",
   "metadata": {},
   "outputs": [
    {
     "name": "stdout",
     "output_type": "stream",
     "text": [
      "1\n",
      "2\n",
      "3\n",
      "4\n",
      "5\n",
      "6\n",
      "7\n",
      "8\n",
      "9\n",
      "10\n",
      "11\n",
      "12\n"
     ]
    }
   ],
   "source": [
    "num = 0\n",
    "while num<=200000:\n",
    "    num = num+1\n",
    "    if num==13:\n",
    "        break\n",
    "    print(num)\n",
    "    "
   ]
  },
  {
   "cell_type": "code",
   "execution_count": 7,
   "id": "b6ccee67",
   "metadata": {},
   "outputs": [
    {
     "name": "stdout",
     "output_type": "stream",
     "text": [
      "Please Eneter The NameRakesh\n",
      "Hey Rakesh\n"
     ]
    }
   ],
   "source": [
    "# Function\n",
    "name = input(\"Please Eneter The Name\")\n",
    "def somename():\n",
    "    print(f\"Hey {name}\")\n",
    "somename()\n"
   ]
  },
  {
   "cell_type": "code",
   "execution_count": 8,
   "id": "da74b860",
   "metadata": {},
   "outputs": [
    {
     "name": "stdout",
     "output_type": "stream",
     "text": [
      "Hey Rakesh. Let's eat some Apple\n"
     ]
    }
   ],
   "source": [
    "\n",
    "def somename(name,food):# passing parameters\n",
    "    print(f\"Hey {name}. Let's eat some {food}\")\n",
    "somename('Rakesh', 'Apple')\n"
   ]
  },
  {
   "cell_type": "code",
   "execution_count": 10,
   "id": "d445c34a",
   "metadata": {},
   "outputs": [
    {
     "name": "stdout",
     "output_type": "stream",
     "text": [
      "Hey Rakesh. Let's eat some Apple\n",
      "Hey Rakesh. Let's eat some Pizza\n"
     ]
    }
   ],
   "source": [
    "\n",
    "def somename(name,food=\"Pizza\"):# passing parameters keyword argument\n",
    "    print(f\"Hey {name}. Let's eat some {food}\")\n",
    "somename('Rakesh', 'Apple')\n",
    "somename('Rakesh')"
   ]
  },
  {
   "cell_type": "code",
   "execution_count": 12,
   "id": "5eafcf71",
   "metadata": {},
   "outputs": [
    {
     "name": "stdout",
     "output_type": "stream",
     "text": [
      "a value\n"
     ]
    }
   ],
   "source": [
    "def somefunction():\n",
    "    return \"a value\"\n",
    "thing = somefunction()\n",
    "print(thing)"
   ]
  },
  {
   "cell_type": "code",
   "execution_count": 15,
   "id": "452420f5",
   "metadata": {},
   "outputs": [
    {
     "name": "stdout",
     "output_type": "stream",
     "text": [
      "1406408618241\n"
     ]
    }
   ],
   "source": [
    "def exp(num1,num2):\n",
    "    total = num1**num2\n",
    "    return total\n",
    "big_number = exp(33,8)\n",
    "print(big_number)"
   ]
  },
  {
   "cell_type": "code",
   "execution_count": 25,
   "id": "30739967",
   "metadata": {},
   "outputs": [
    {
     "data": {
      "text/plain": [
       "9890"
      ]
     },
     "execution_count": 25,
     "metadata": {},
     "output_type": "execute_result"
    }
   ],
   "source": [
    "def greater(num1,num2):\n",
    "    if (num1>num2):\n",
    "        return num1\n",
    "    else:\n",
    "        return num2\n",
    "greater(10*989,990)"
   ]
  },
  {
   "cell_type": "code",
   "execution_count": 29,
   "id": "c32e4fa7",
   "metadata": {},
   "outputs": [
    {
     "data": {
      "text/plain": [
       "'Kalob'"
      ]
     },
     "execution_count": 29,
     "metadata": {},
     "output_type": "execute_result"
    }
   ],
   "source": [
    "def myfunc():\n",
    "    name = \"Kalob\"\n",
    "    return name\n",
    "myfunc()"
   ]
  },
  {
   "cell_type": "code",
   "execution_count": 2,
   "id": "d1c9c841",
   "metadata": {},
   "outputs": [
    {
     "data": {
      "text/plain": [
       "'tahj'"
      ]
     },
     "execution_count": 2,
     "metadata": {},
     "output_type": "execute_result"
    }
   ],
   "source": [
    "import random\n",
    "random.choice([\"rock\",\"A\",\"tahj\"])"
   ]
  },
  {
   "cell_type": "markdown",
   "id": "dcdda725",
   "metadata": {},
   "source": [
    "rock>scissors>paper\n",
    "paper>rock"
   ]
  },
  {
   "cell_type": "code",
   "execution_count": 3,
   "id": "10175140",
   "metadata": {},
   "outputs": [
    {
     "name": "stdout",
     "output_type": "stream",
     "text": [
      "Player1: Scissor Player2: Paper\n",
      "Player1 wins\n",
      "Player1: Paper Player2: Rock\n",
      "Player1 wins\n",
      "Player1: Scissor Player2: Scissor\n",
      "Player1 wins\n",
      "Player1: Rock Player2: Rock\n",
      "Player2 wins\n",
      "Player1: Rock Player2: Rock\n",
      "Player2 wins\n",
      "Player1: Paper Player2: Rock\n",
      "Player1 wins\n",
      "Player1: Scissor Player2: Scissor\n",
      "Player1 wins\n",
      "Player1: Rock Player2: Paper\n",
      "Player1 wins\n"
     ]
    }
   ],
   "source": [
    "lst= [\"Rock\", \"Paper\", \"Scissor\"]\n",
    "def RPC():\n",
    "    Player1 = random.choice(lst)\n",
    "    Player2 = random.choice(lst)\n",
    "    print(\"Player1:\",Player1, \"Player2:\",Player2)\n",
    "    if Player1 == \"Rock\" and Player2==\"Paper\" or Player2 == \"Scissor\":\n",
    "        print(\"Player1 wins\")\n",
    "    elif Player1 == \"Scissor\" and Player2==\"Paper\":\n",
    "        print(\"Player1 wins\")\n",
    "    elif Player1 == \"Paper\" and Player2==\"Rock\":\n",
    "        print(\"Player1 wins\")\n",
    "    else:\n",
    "        print(\"Player2 wins\")\n",
    "RPC()\n",
    "RPC()\n",
    "RPC()\n",
    "RPC()\n",
    "RPC()\n",
    "RPC()\n",
    "RPC()\n",
    "RPC()\n",
    "\n",
    "\n"
   ]
  },
  {
   "cell_type": "code",
   "execution_count": 4,
   "id": "bd2c6c8a",
   "metadata": {},
   "outputs": [
    {
     "name": "stdout",
     "output_type": "stream",
     "text": [
      "Choose: rock, paper or scissorsquit\n"
     ]
    }
   ],
   "source": [
    "while True:\n",
    "    my_answer = input(\"Choose: rock, paper or scissors\")\n",
    "    my_answer = my_answer.lower()\n",
    "    if my_answer =='quit':\n",
    "        break\n",
    "    \n",
    "    if my_answer != \"rock\" and my_answer != \"paper\" and my_answer != \"scissors\":\n",
    "        print(\"Please choose a correct answer\")\n",
    "        continue\n",
    "    computer_answer = random.choice([\"rock\", \"paper\", \"scissors\"])\n",
    "    print(f\"Computer Chose : {computer_answer}\")\n",
    "    if my_answer == computer_answer:\n",
    "        print(\"You Tied\")\n",
    "        continue\n",
    "    elif my_answer == \"paper\" and computer_answer==\"rock\":\n",
    "        print(\"You Win!\")\n",
    "        break\n",
    "    elif my_answer == \"rock\" and computer_answer==\"scissors\":\n",
    "        print(\"You Win!\")\n",
    "        break\n",
    "    elif my_answer == \"scissors\" and computer_answer == \"paper\":\n",
    "        print(\"You Win!\")\n",
    "        break\n",
    "    else:\n",
    "        print(\"You Lost!Try Again\")\n",
    "     \n",
    "    "
   ]
  },
  {
   "cell_type": "code",
   "execution_count": 1,
   "id": "df48974a",
   "metadata": {},
   "outputs": [
    {
     "name": "stdout",
     "output_type": "stream",
     "text": [
      "Rakesh is in the name\n"
     ]
    }
   ],
   "source": [
    "names = ['Rakesh', 'Rashmi', 'Pinky', 'Aryan']\n",
    "if 'Rakesh' in names:\n",
    "    print(\"Rakesh is in the name\")"
   ]
  },
  {
   "cell_type": "code",
   "execution_count": 7,
   "id": "8734d37e",
   "metadata": {},
   "outputs": [
    {
     "name": "stdout",
     "output_type": "stream",
     "text": [
      "Eneter a name rock\n",
      "rock is one of the options\n"
     ]
    }
   ],
   "source": [
    "###IN and NOT In\n",
    "\n",
    "my_answer = input(\"Eneter a name \")\n",
    "options = [\"rock\", \"paper\",\"scissors\"]\n",
    "\n",
    "if my_answer in options:\n",
    "    print(f\"{my_answer} is one of the options\")\n",
    "if my_answer not in options:\n",
    "    print(f\"{my_answer} is not in the options\")\n",
    "    "
   ]
  },
  {
   "cell_type": "code",
   "execution_count": 10,
   "id": "ef9e2bf8",
   "metadata": {},
   "outputs": [
    {
     "name": "stdout",
     "output_type": "stream",
     "text": [
      "Hey Welcome to Python 201\n",
      "dllfdls\n",
      "xzldslkjd\n",
      "djdlsdl\n",
      "dsdsdljskldjlsljd\n",
      "dsdhsldlsdhhl\n",
      "\n"
     ]
    }
   ],
   "source": [
    "###Reading File\n",
    "with open (\"readme.txt\",\"r\") as file:\n",
    "    print(file.read())\n",
    "    "
   ]
  },
  {
   "cell_type": "code",
   "execution_count": 15,
   "id": "4e39cef4",
   "metadata": {},
   "outputs": [],
   "source": [
    "with open (\"writing_files.txt\",\"w\") as file:\n",
    "    file.write(\"Hello from Python 201\")\n",
    "    file.write(\"\\n Amdm;ksfm;d\")\n",
    "    file.write(\"\\n\\t dsfdfd\")\n",
    "    "
   ]
  },
  {
   "cell_type": "code",
   "execution_count": 32,
   "id": "75942412",
   "metadata": {},
   "outputs": [
    {
     "name": "stdout",
     "output_type": "stream",
     "text": [
      "armbrustersa@bv.com\n",
      "devinruster@gmail.com\n",
      "george.huettel@cyrustechnologies.com\n",
      "jarmbruster@taylorengineering.com\n",
      "jdyer@trustedengineering.com\n",
      "jeffreyrustin@att.net\n",
      "jeffreyrustin@att.net\n",
      "joetrusty2008@yahoo.com\n",
      "martin@brust.us\n",
      "msrustybob@aol.com\n",
      "robert.brust@hecl.com\n",
      "rusty.chesmore@meadhunt.com\n",
      "rusty.mclaughlin@yahoo.com\n",
      "rusty.snider@gmail.com\n",
      "rusty.snider@gmail.com\n",
      "rusty@hyde-egr.com\n",
      "rusty_coan@murphyoilcorp.com\n",
      "rustybellard@bellsouth.net\n",
      "rustyga13@gmail.com\n",
      "rustyiron@aol.com\n",
      "samrustin@gmail.com\n",
      "strusty@tampabay.rr.com\n"
     ]
    }
   ],
   "source": [
    "###Reading File\n",
    "with open (\"mail.txt\",\"r\") as emails:\n",
    "    emails=(emails.readlines())\n",
    "#print(emails)\n",
    "for email in emails:\n",
    "    #print(\"Looking for iiserbpr account\")\n",
    "    if \"rust\" in email:\n",
    "        print(email.rstrip())\n",
    "    \n",
    "    "
   ]
  },
  {
   "cell_type": "code",
   "execution_count": 35,
   "id": "c9240d20",
   "metadata": {},
   "outputs": [
    {
     "name": "stdout",
     "output_type": "stream",
     "text": [
      "What is the filename?rakesh\n",
      "Enter the content: dsjhfkjshfkjhfj\n",
      "Would you like to read this file?y\n",
      "dsjhfkjshfkjhfj\n"
     ]
    }
   ],
   "source": [
    "filename = input(\"What is the filename?\")\n",
    "content = input(\"Enter the content: \")\n",
    "\n",
    "with open(filename,'w')as file:\n",
    "    file.write(content)\n",
    "open_file = input(\"Would you like to read this file?\")\n",
    "if open_file in ['y','n']:\n",
    "    if open_file=='y':\n",
    "        with open(filename,'r')as file:\n",
    "            print(file.read())"
   ]
  },
  {
   "cell_type": "code",
   "execution_count": 39,
   "id": "c54e904a",
   "metadata": {},
   "outputs": [
    {
     "name": "stdout",
     "output_type": "stream",
     "text": [
      "Welcome to thing Jacob\n",
      "Welcome to thing2 Jacob\n"
     ]
    }
   ],
   "source": [
    "#Function inside a function\n",
    "def thing1(name):\n",
    "    print(\"Welcome to thing\", name)\n",
    "    def thing2(name):\n",
    "        print(\"Welcome to thing2\",name)\n",
    "    thing2(name)\n",
    "    #DECORATOR\n",
    "thing1(\"Jacob\")"
   ]
  },
  {
   "cell_type": "code",
   "execution_count": 40,
   "id": "2f29efda",
   "metadata": {},
   "outputs": [
    {
     "name": "stdout",
     "output_type": "stream",
     "text": [
      "Welcome to thing Jacob\n",
      "Welcome to thing2 Jacob\n"
     ]
    }
   ],
   "source": [
    "#Function inside a function\n",
    "def thing1(name):\n",
    "    print(\"Welcome to thing\", name)\n",
    "    def thing2():\n",
    "        print(\"Welcome to thing2\",name)\n",
    "    thing2()\n",
    "    #DECORATOR\n",
    "thing1(\"Jacob\")"
   ]
  },
  {
   "cell_type": "code",
   "execution_count": 4,
   "id": "f97c9c6d",
   "metadata": {},
   "outputs": [],
   "source": [
    "#API REQUESTS\n",
    "import requests\n",
    "import time\n",
    "#while True:\n",
    "    #req = requests.get(\"https://twitter.com/albertRakesh_11\")\n",
    "    #print(req.status_code)\n",
    "    #if req.status_code!=200:\n",
    "        #email me or text me\n",
    "        #pass\n",
    "    #time.sleep(3)\n",
    "    #status code 200 means the website is up and working\n"
   ]
  },
  {
   "cell_type": "code",
   "execution_count": 25,
   "id": "cf38da1a",
   "metadata": {},
   "outputs": [
    {
     "name": "stdout",
     "output_type": "stream",
     "text": [
      "{'name': 'Beru Whitesun lars', 'height': '165', 'mass': '75', 'hair_color': 'brown', 'skin_color': 'light', 'eye_color': 'blue', 'birth_year': '47BBY', 'gender': 'female', 'homeworld': 'https://swapi.dev/api/planets/1/', 'films': ['https://swapi.dev/api/films/1/', 'https://swapi.dev/api/films/5/', 'https://swapi.dev/api/films/6/'], 'species': [], 'vehicles': [], 'starships': [], 'created': '2014-12-10T15:53:41.121000Z', 'edited': '2014-12-20T21:17:50.319000Z', 'url': 'https://swapi.dev/api/people/7/'}\n",
      "Name is \t\tBeru Whitesun lars\n",
      "Birth year is \t\t47BBY\n",
      "Films Involved In:\n",
      "Film is : A New Hope\n",
      "Film is : Attack of the Clones\n",
      "Film is : Revenge of the Sith\n"
     ]
    }
   ],
   "source": [
    "import requests\n",
    "req = requests.get(\"https://swapi.dev/api/people/7/\")\n",
    "person = req.json()\n",
    "print(person)\n",
    "print(f\"Name is \\t\\t{person['name']}\")\n",
    "print(f\"Birth year is \\t\\t{person['birth_year']}\")\n",
    "\n",
    "print(\"Films Involved In:\")\n",
    "\n",
    "for film in person['films']:\n",
    "    req=requests.get(film)\n",
    "    film=req.json()\n",
    "    print(\"Film is :\", film['title'])"
   ]
  },
  {
   "cell_type": "code",
   "execution_count": 59,
   "id": "8339fbc9",
   "metadata": {},
   "outputs": [
    {
     "data": {
      "text/plain": [
       "{'name': 'Beru Whitesun lars',\n",
       " 'height': '165',\n",
       " 'mass': '75',\n",
       " 'hair_color': 'brown',\n",
       " 'skin_color': 'light',\n",
       " 'eye_color': 'blue',\n",
       " 'birth_year': '47BBY',\n",
       " 'gender': 'female',\n",
       " 'homeworld': 'https://swapi.dev/api/planets/1/',\n",
       " 'films': ['https://swapi.dev/api/films/1/',\n",
       "  'https://swapi.dev/api/films/5/',\n",
       "  'https://swapi.dev/api/films/6/'],\n",
       " 'species': [],\n",
       " 'vehicles': [],\n",
       " 'starships': [],\n",
       " 'created': '2014-12-10T15:53:41.121000Z',\n",
       " 'edited': '2014-12-20T21:17:50.319000Z',\n",
       " 'url': 'https://swapi.dev/api/people/7/'}"
      ]
     },
     "execution_count": 59,
     "metadata": {},
     "output_type": "execute_result"
    }
   ],
   "source": [
    "{'name': 'Beru Whitesun lars', 'height': '165', 'mass': '75', 'hair_color': 'brown', 'skin_color': 'light', 'eye_color': 'blue', 'birth_year': '47BBY', 'gender': 'female', 'homeworld': 'https://swapi.dev/api/planets/1/', 'films': ['https://swapi.dev/api/films/1/', 'https://swapi.dev/api/films/5/', 'https://swapi.dev/api/films/6/'], 'species': [], 'vehicles': [], 'starships': [], 'created': '2014-12-10T15:53:41.121000Z', 'edited': '2014-12-20T21:17:50.319000Z', 'url': 'https://swapi.dev/api/people/7/'}"
   ]
  },
  {
   "cell_type": "code",
   "execution_count": 90,
   "id": "a007e37c",
   "metadata": {},
   "outputs": [
    {
     "name": "stdout",
     "output_type": "stream",
     "text": [
      "25\n"
     ]
    }
   ],
   "source": [
    "#Function Arguments\n",
    "#def things(self,request,*args,**kwargs):\n",
    "\n",
    "def add_numbers(*args):\n",
    "    total = 0\n",
    "    for num in args:\n",
    "        total=total+num\n",
    "    return total\n",
    "    print(args)\n",
    "    print(type(args))\n",
    "\n",
    "total =add_numbers(1,3,5,7,9)\n",
    "print(total)\n",
    "\n",
    "\n",
    "    "
   ]
  },
  {
   "cell_type": "code",
   "execution_count": 96,
   "id": "bb53b618",
   "metadata": {},
   "outputs": [
    {
     "name": "stdout",
     "output_type": "stream",
     "text": [
      "4590\n"
     ]
    }
   ],
   "source": [
    "\n",
    "def Multiply(*args):\n",
    "    total =1\n",
    "    for num in args:\n",
    "        total=total*num\n",
    "    return total\n",
    "    print(args)\n",
    "    print(type(args))\n",
    "\n",
    "total =Multiply(1,3,5,9,34)\n",
    "print(total)"
   ]
  },
  {
   "cell_type": "code",
   "execution_count": 124,
   "id": "fe72a903",
   "metadata": {},
   "outputs": [
    {
     "name": "stdout",
     "output_type": "stream",
     "text": [
      "{'name': 'jacob', 'age': 23, 'brain': 'Huge'}\n",
      "<class 'dict'>\n",
      "Your age is  23\n"
     ]
    }
   ],
   "source": [
    "#def thing (name, age=31, *args, **kwargs):\n",
    "\n",
    "def person(**kwargs):\n",
    "    print(kwargs)\n",
    "    print(type(kwargs))\n",
    "    \n",
    "    if 'age' in kwargs:\n",
    "        print(\"Your age is \",kwargs.get('age') )\n",
    "person(name='jacob', age =23 , brain = 'Huge')\n",
    "\n"
   ]
  },
  {
   "cell_type": "code",
   "execution_count": 120,
   "id": "356aaf05",
   "metadata": {},
   "outputs": [
    {
     "data": {
      "text/plain": [
       "23"
      ]
     },
     "execution_count": 120,
     "metadata": {},
     "output_type": "execute_result"
    }
   ],
   "source": [
    "from datetime import date\n",
    " \n",
    "def age(birthdate):\n",
    "    today = date.today()\n",
    "    age = today.year - birthdate.year - ((today.month, today.day) < (birthdate.month, birthdate.day))\n",
    "    return age\n",
    "age(date(1998,9,11))\n"
   ]
  },
  {
   "cell_type": "code",
   "execution_count": 132,
   "id": "210ed1be",
   "metadata": {},
   "outputs": [
    {
     "name": "stdout",
     "output_type": "stream",
     "text": [
      "Order is for Amanda\n",
      "Ship it to Canada\n",
      "The total price is 24.0\n"
     ]
    }
   ],
   "source": [
    "def order_pizza(name,address,**toppings):\n",
    "    print(f\"Order is for {name}\")\n",
    "    print(f\"Ship it to {address}\")\n",
    "    price = 18.00\n",
    "    for key,value in toppings.items():\n",
    "        price = price +2.00\n",
    "    print(f\"The total price is {price}\")\n",
    "    return price\n",
    "total_price = order_pizza(\"Amanda\", \"Canada\", jalapanose = False, extra_chees = True, ham=True)"
   ]
  },
  {
   "cell_type": "code",
   "execution_count": 142,
   "id": "90ab87d7",
   "metadata": {
    "scrolled": true
   },
   "outputs": [
    {
     "name": "stdout",
     "output_type": "stream",
     "text": [
      "1.\t Rubarb\n",
      "3.\t Henry\n"
     ]
    }
   ],
   "source": [
    "## ENUMERATION\n",
    "animals = [\"Gully\", \"Rubarb\", \"Zephyr\", \"Henry\"]\n",
    "for index, animal in enumerate(animals):\n",
    "    if index%2==0:\n",
    "        continue\n",
    "    #print(animal)\n",
    "    print(f\"{index}.\\t {animal}\")"
   ]
  },
  {
   "cell_type": "code",
   "execution_count": 148,
   "id": "1d030b7f",
   "metadata": {},
   "outputs": [
    {
     "name": "stdout",
     "output_type": "stream",
     "text": [
      "[1, 9, 25, 49, 81]\n",
      "[1, 4, 9, 16, 25, 36]\n"
     ]
    }
   ],
   "source": [
    "## List Comprehension\n",
    "numbers = []\n",
    "for num in [1,3,5,7,9]:\n",
    "    numbers.append(num**2)\n",
    "print(numbers)\n",
    "\n",
    "numbers = [num**2 for num in [1,2,3,4,5,6]]\n",
    "print(numbers)"
   ]
  },
  {
   "cell_type": "code",
   "execution_count": 152,
   "id": "35c331fd",
   "metadata": {},
   "outputs": [
    {
     "name": "stdout",
     "output_type": "stream",
     "text": [
      "{'name': 'Kallob', 'occupation': 'coder'}\n",
      "{'name': 'Kallob', 'occupation': 'coder'}\n",
      "{'name': 'Kallob', 'occupation': 'coder'}\n"
     ]
    }
   ],
   "source": [
    "#Dictionary Comprehension\n",
    "names = [(\"name\", \"Kallob\"), (\"occupation\",\"coder\")]\n",
    "d={}\n",
    "for key,value in names:\n",
    "    d[key]= value\n",
    "print(d)\n",
    "\n",
    "\n",
    "d={key:value for key,value in names}\n",
    "print(d)\n",
    "\n",
    "d= dict(names)\n",
    "print(d)"
   ]
  },
  {
   "cell_type": "code",
   "execution_count": 13,
   "id": "26ab723b",
   "metadata": {},
   "outputs": [
    {
     "name": "stdout",
     "output_type": "stream",
     "text": [
      "{'name': 'Beru Whitesun lars', 'height': '165', 'mass': '75', 'hair_color': 'brown', 'skin_color': 'light', 'eye_color': 'blue', 'birth_year': '47BBY', 'gender': 'female', 'homeworld': 'https://swapi.dev/api/planets/1/', 'films': ['https://swapi.dev/api/films/1/', 'https://swapi.dev/api/films/5/', 'https://swapi.dev/api/films/6/'], 'species': [], 'vehicles': [], 'starships': [], 'created': '2014-12-10T15:53:41.121000Z', 'edited': '2014-12-20T21:17:50.319000Z', 'url': 'https://swapi.dev/api/people/7/'}\n",
      "Name is \t\tBeru Whitesun lars\n",
      "Birth year is \t\t47BBY\n",
      "Films Involved In:\n",
      "Film is : A New Hope\n",
      "Film is : Attack of the Clones\n",
      "Film is : Revenge of the Sith\n"
     ]
    }
   ],
   "source": [
    "#API Refresher\n",
    "import requests\n",
    "req = requests.get(\"https://swapi.dev/api/people/7/\")\n",
    "person = req.json()\n",
    "print(person)\n",
    "print(f\"Name is \\t\\t{person['name']}\")\n",
    "print(f\"Birth year is \\t\\t{person['birth_year']}\")\n",
    "\n",
    "print(\"Films Involved In:\")\n",
    "\n",
    "for film in person['films']:\n",
    "    req=requests.get(film)\n",
    "    film=req.json()\n",
    "    print(\"Film is :\", film['title'])"
   ]
  },
  {
   "cell_type": "code",
   "execution_count": null,
   "id": "7504a8fe",
   "metadata": {},
   "outputs": [
    {
     "name": "stdout",
     "output_type": "stream",
     "text": [
      "Which Pokemon do you want to find?ditto\n",
      "Name is\t\tditto\n",
      "Abilities:\n",
      "limber\n",
      "imposter\n",
      "Which Pokemon do you want to find?charmeleon\n",
      "Name is\t\tcharmeleon\n",
      "Abilities:\n",
      "blaze\n",
      "solar-power\n",
      "Which Pokemon do you want to find?bulbasur\n",
      "Pokemon not found\n",
      "Which Pokemon do you want to find?waxirasd\n",
      "Pokemon not found\n"
     ]
    }
   ],
   "source": [
    "#API Refresher\n",
    "import requests\n",
    "\n",
    "while True:\n",
    "    pokemon= input(\"Which Pokemon do you want to find?\")\n",
    "    pokemon = pokemon.lower()\n",
    "    url =f\"https://pokeapi.co/api/v2/pokemon/{pokemon}\"\n",
    "    req=requests.get(url)\n",
    "    if req.status_code ==200:\n",
    "        data = req.json()\n",
    "        print(f\"Name is\\t\\t{data['name']}\")\n",
    "        print(\"Abilities:\")\n",
    "        for ability in data ['abilities']:\n",
    "            print(ability['ability']['name'])\n",
    "    else:\n",
    "        print(\"Pokemon not found\")\n"
   ]
  },
  {
   "cell_type": "code",
   "execution_count": 1,
   "id": "7eaffd7b",
   "metadata": {},
   "outputs": [
    {
     "name": "stdout",
     "output_type": "stream",
     "text": [
      "Something\n"
     ]
    }
   ],
   "source": [
    "## OOPS CONCEPT\n",
    "\n",
    "class Animal:\n",
    "    property_1 = \"Something\"\n",
    "the_animal = Animal()#activated the class\n",
    "print(the_animal.property_1)"
   ]
  },
  {
   "cell_type": "code",
   "execution_count": 16,
   "id": "3eed0496",
   "metadata": {},
   "outputs": [
    {
     "name": "stdout",
     "output_type": "stream",
     "text": [
      "Gully\n",
      "aryan\n",
      "value1\n"
     ]
    }
   ],
   "source": [
    "class Animal:\n",
    "    this_is_a_property={'key_1':'value1'}\n",
    "    this_list = ['Kane', 'Kalob', 'Gully']\n",
    "    this_tuple=('rakesh', 'pinky', 'aryan')\n",
    "the_animal = Animal()\n",
    "print(the_animal.this_list[2])\n",
    "print(the_animal.this_tuple[-1])\n",
    "print(the_animal.this_is_a_property['key_1'])\n"
   ]
  },
  {
   "cell_type": "code",
   "execution_count": 38,
   "id": "226ce5fb",
   "metadata": {},
   "outputs": [
    {
     "name": "stdout",
     "output_type": "stream",
     "text": [
      "Gully\n",
      "aryan\n",
      "value1\n",
      "['Kane', 'Kalob', 'Gully']\n",
      "The cutest gato of all time is  Gully\n",
      "['Kane', 'Kalob', 'Gully', 'hui']\n",
      "['Kane', 'Kalob', 'Gully']\n"
     ]
    }
   ],
   "source": [
    "## Classs Method (Function inside a class)\n",
    "class Animal:\n",
    "    this_is_a_property={'key_1':'value1'}\n",
    "    this_list = ['Kane', 'Kalob', 'Gully']\n",
    "    this_tuple=('rakesh', 'pinky', 'aryan')\n",
    "    \n",
    "    def this_is_a_method(self):\n",
    "        print(self.this_list)\n",
    "        \n",
    "    @property #Decorators\n",
    "    def get_gully(self):\n",
    "        return self.this_list[2]\n",
    "    \n",
    "    def add_name(self,name):\n",
    "        self.this_list.append(name)\n",
    "        return self.this_list\n",
    "    \n",
    "    def remove_name(self,name):\n",
    "        self.this_list.remove(name)\n",
    "        return self.this_list\n",
    "    \n",
    "        \n",
    "the_animal = Animal()\n",
    "\n",
    "\n",
    "print(the_animal.this_list[2])\n",
    "print(the_animal.this_tuple[-1])\n",
    "print(the_animal.this_is_a_property['key_1'])\n",
    "the_animal.this_is_a_method()\n",
    "gully =the_animal.get_gully # No need of the bracket as we have put decorator\n",
    "print(\"The cutest gato of all time is \", gully)\n",
    "print(the_animal.add_name('hui'))\n",
    "print(the_animal.remove_name('hui'))"
   ]
  },
  {
   "cell_type": "code",
   "execution_count": 39,
   "id": "6930304b",
   "metadata": {},
   "outputs": [
    {
     "name": "stdout",
     "output_type": "stream",
     "text": [
      "Rawwwwwrrr\n"
     ]
    }
   ],
   "source": [
    "class Animal:\n",
    "    fur_color = 'Orange'\n",
    "    \n",
    "    def speak(self):\n",
    "        print(\"Rawwwwwrrr\")\n",
    "    \n",
    "    def eat(self):\n",
    "        pass\n",
    "    def chase(self):\n",
    "        pass\n",
    "    \n",
    "tiger = Animal()\n",
    "tiger.speak()"
   ]
  },
  {
   "cell_type": "code",
   "execution_count": 51,
   "id": "fcfd60d5",
   "metadata": {},
   "outputs": [
    {
     "name": "stdout",
     "output_type": "stream",
     "text": [
      "They're GREATTTTTTTT...\n",
      "Rawwwwwrrr\n",
      "Miaaaaaooooo......\n",
      "Orange\n",
      "Orange\n"
     ]
    }
   ],
   "source": [
    "## Class Inheritence\n",
    "class Animal:\n",
    "    fur_color = 'Orange'\n",
    "    \n",
    "    def speak(self):\n",
    "        print(\"Rawwwwwrrr\")\n",
    "    \n",
    "    def eat(self):\n",
    "        pass\n",
    "    def chase(self):\n",
    "        pass\n",
    "\n",
    "class Tiger(Animal):\n",
    "    def speak(self):\n",
    "        print(\"They're GREATTTTTTTT...\")\n",
    "        \n",
    "class HouseCat(Animal):\n",
    "    def speak(self):\n",
    "        print(\"Miaaaaaooooo......\")\n",
    "        \n",
    "        \n",
    "cat=HouseCat()\n",
    "tiger = Tiger()\n",
    "animal = Animal()\n",
    "\n",
    "tiger.speak()\n",
    "animal.speak()\n",
    "cat.speak()\n",
    "print(cat.fur_color)\n",
    "print(tiger.fur_color)\n",
    "    "
   ]
  },
  {
   "cell_type": "code",
   "execution_count": 64,
   "id": "d69c50c5",
   "metadata": {},
   "outputs": [
    {
     "name": "stdout",
     "output_type": "stream",
     "text": [
      "Meeeeaooooooow\n",
      "I'm eating Yum Yum Yum ...\n",
      "I'm eating Salmon\n"
     ]
    }
   ],
   "source": [
    "## Class Interface\n",
    "\n",
    "class Animal:\n",
    "    fur_color = 'Orange'\n",
    "    \n",
    "    def __init__(self, fur_color):\n",
    "        pass\n",
    "    \n",
    "    def speak(self):\n",
    "        raise NotImplentedError\n",
    "    \n",
    "    def eat(self):\n",
    "        print(\"I'm eating Yum Yum Yum ...\")\n",
    "    def chase(self):\n",
    "        pass\n",
    "\n",
    "class HouseCat(Animal):\n",
    "    def speak(self):\n",
    "        print(\"Meeeeaooooooow\")\n",
    "    def eat(self):\n",
    "        super().eat()\n",
    "        print(\"I'm eating Salmon\")\n",
    "    \n",
    "\n",
    "cat=HouseCat(\"hey\")\n",
    "cat.speak()\n",
    "cat.eat()"
   ]
  },
  {
   "cell_type": "code",
   "execution_count": 3,
   "id": "c7df8b0f",
   "metadata": {},
   "outputs": [
    {
     "name": "stdout",
     "output_type": "stream",
     "text": [
      "Trying 1/0\n",
      "0\n"
     ]
    }
   ],
   "source": [
    "## Error and Exceptaion\n",
    "\n",
    "try:\n",
    "    print(\"Trying 1/0\")\n",
    "    total = 1/0\n",
    "    print(\"This will not show up\")\n",
    "    \n",
    "except Exception:\n",
    "    total =0\n",
    "print(total)"
   ]
  },
  {
   "cell_type": "code",
   "execution_count": 9,
   "id": "7bc48bf1",
   "metadata": {},
   "outputs": [
    {
     "name": "stdout",
     "output_type": "stream",
     "text": [
      "What's is a number?23232\n",
      "23232\n"
     ]
    }
   ],
   "source": [
    "num = input(\"What's is a number?\")\n",
    "try:\n",
    "    num = int(num)\n",
    "except Exception:\n",
    "    num = \"Unknown\"\n",
    "print(num)"
   ]
  },
  {
   "cell_type": "code",
   "execution_count": 19,
   "id": "e41d1def",
   "metadata": {},
   "outputs": [
    {
     "name": "stdout",
     "output_type": "stream",
     "text": [
      "What's is a number?12\n",
      "Enter a second number:0\n",
      "Numbers could not be divided\n",
      "12\n"
     ]
    }
   ],
   "source": [
    "num = input(\"What's is a number?\")\n",
    "num2 = input(\"Enter a second number:\")\n",
    "try:\n",
    "    num = int(num)\n",
    "    num2=int(num2)\n",
    "    total = num/num2\n",
    "    print(total)\n",
    "except ValueError:\n",
    "    print(num, \"was not a valid number\")\n",
    "except ZeroDivisionError:\n",
    "    print(\"Numbers could not be divided\")\n",
    "except Exception as e:\n",
    "    print(\"Exception was caught\")\n",
    "    print(type(e))\n",
    "    num = \"Unknown\"\n",
    "print(num)"
   ]
  },
  {
   "cell_type": "code",
   "execution_count": 21,
   "id": "5df72925",
   "metadata": {},
   "outputs": [
    {
     "name": "stdout",
     "output_type": "stream",
     "text": [
      "My name is Kalob\n",
      "My name is Kalob\n",
      "Original function is finished\n"
     ]
    }
   ],
   "source": [
    "## Decorators\n",
    "def myfunc():\n",
    "    print(\"My name is Kalob\")\n",
    "    \n",
    "myfunc()\n",
    "\n",
    "def my_decorator(func):\n",
    "    def wrapper():\n",
    "        func()\n",
    "        print(\"Original function is finished\")\n",
    "        \n",
    "    return wrapper\n",
    "\n",
    "new_func = my_decorator(myfunc)\n",
    "new_func()"
   ]
  },
  {
   "cell_type": "code",
   "execution_count": 23,
   "id": "a9c2c34e",
   "metadata": {},
   "outputs": [
    {
     "name": "stdout",
     "output_type": "stream",
     "text": [
      "My name is Kalob\n",
      "Original function is finished\n"
     ]
    }
   ],
   "source": [
    "## Decorators\n",
    "\n",
    "def my_decorator(func):\n",
    "    def wrapper():\n",
    "        func()\n",
    "        print(\"Original function is finished\")\n",
    "        \n",
    "    return wrapper\n",
    "\n",
    "@my_decorator\n",
    "def myfunc():\n",
    "    print(\"My name is Kalob\")\n",
    "myfunc()"
   ]
  },
  {
   "cell_type": "code",
   "execution_count": 26,
   "id": "52f91a26",
   "metadata": {},
   "outputs": [
    {
     "name": "stdout",
     "output_type": "stream",
     "text": [
      "0\n",
      "1\n",
      "2\n",
      "3\n",
      "4\n",
      "5\n",
      "6\n",
      "7\n",
      "8\n",
      "9\n",
      "10\n",
      "11\n",
      "12\n",
      "13\n"
     ]
    }
   ],
   "source": [
    "## Generators \n",
    "lst = [1,2,3]\n",
    "def myfunc():\n",
    "    for num in range(14):\n",
    "        print(num)\n",
    "myfunc()"
   ]
  },
  {
   "cell_type": "code",
   "execution_count": 44,
   "id": "153638a4",
   "metadata": {},
   "outputs": [
    {
     "name": "stdout",
     "output_type": "stream",
     "text": [
      "[1, 1, 4, 27, 256, 3125, 46656, 823543, 16777216, 387420489, 10000000000, 285311670611, 8916100448256, 302875106592253, 11112006825558016, 437893890380859375, 18446744073709551616, 827240261886336764177, 39346408075296537575424, 1978419655660313589123979]\n"
     ]
    }
   ],
   "source": [
    "## Generators (One task at a time)\n",
    "\n",
    "def my_generator():\n",
    "    for num in range(20):\n",
    "        yield num**num\n",
    "for big_num in my_generator():\n",
    "    #print(big_num)\n",
    "    pass\n",
    "all_numbers = list(my_generator())\n",
    "print(all_numbers)"
   ]
  },
  {
   "cell_type": "code",
   "execution_count": 47,
   "id": "f039c7a6",
   "metadata": {},
   "outputs": [
    {
     "name": "stdout",
     "output_type": "stream",
     "text": [
      "[0, 1, 2, 3, 4, 5, 6, 7, 8, 9, 10, 11, 12, 13, 14, 15, 16, 17, 18, 19, 20, 21, 22, 23, 24, 25, 26, 27, 28, 29, 30, 31, 32, 33, 34, 35, 36, 37, 38, 39, 40, 41, 42, 43, 44, 45, 46, 47, 48, 49]\n"
     ]
    }
   ],
   "source": [
    "total =list(range(50))\n",
    "print(total)"
   ]
  },
  {
   "cell_type": "code",
   "execution_count": null,
   "id": "47f48a7f",
   "metadata": {},
   "outputs": [
    {
     "name": "stdout",
     "output_type": "stream",
     "text": [
      "What kind of action do you want to take?withdraw\n",
      "How much money do you want to take out?12\n",
      "Your Balance is 38.5\n",
      "What kind of action do you want to take?rov\n",
      "The action is not valid please try again\n",
      "What kind of action do you want to take?ere\n",
      "The action is not valid please try again\n"
     ]
    }
   ],
   "source": [
    "#BANKING APP\n",
    "\n",
    "class Bank:\n",
    "    \n",
    "    def __init__(self,initial_amount=0.00):\n",
    "        self.balance = initial_amount\n",
    "        \n",
    "    def log_transction(self, transaction_string):\n",
    "        with open(\"transaction.txt\",\"a\") as file:\n",
    "            file.write(f\"{transaction_string}\\t\\t\\t Balance:{self.balance}\\n\")\n",
    "        \n",
    "    def withdraw(self, amount):\n",
    "        try:\n",
    "            amount = float(amount)\n",
    "        except ValueError:\n",
    "            amount =0\n",
    "        if amount:\n",
    "            self.balance  = self.balance-amount\n",
    "            self.log_transction(f\"Withdrew ${amount}\")\n",
    "        \n",
    "    def deposit(self,amount):\n",
    "        try:\n",
    "            amount=float(amount)\n",
    "        except ValueError:\n",
    "            amount=0\n",
    "        if amount:\n",
    "            self.balance = self.balance+amount\n",
    "            self.log_transction(f\"Deposited ${amount}\")\n",
    "\n",
    "account = Bank(50.50)\n",
    "while True:\n",
    "    action = input(\"What kind of action do you want to take?\")\n",
    "    if action in [\"withdraw\", \"deposit\"]:\n",
    "        if action == \"withdraw\":\n",
    "            amount = input(\"How much money do you want to take out?\")\n",
    "            account.withdraw(amount)\n",
    "        else:\n",
    "            amount = input(\"How much money do you want to put in?\")\n",
    "            account.deposit(amount)\n",
    "            \n",
    "        print(\"Your Balance is\",account.balance)\n",
    "    else:\n",
    "        print(\"The action is not valid please try again\")\n",
    "            \n",
    "        \n",
    "            \n"
   ]
  },
  {
   "cell_type": "code",
   "execution_count": null,
   "id": "0bbaf6cf",
   "metadata": {},
   "outputs": [],
   "source": []
  },
  {
   "cell_type": "code",
   "execution_count": null,
   "id": "3036fb8d",
   "metadata": {},
   "outputs": [],
   "source": []
  }
 ],
 "metadata": {
  "kernelspec": {
   "display_name": "Python 3 (ipykernel)",
   "language": "python",
   "name": "python3"
  },
  "language_info": {
   "codemirror_mode": {
    "name": "ipython",
    "version": 3
   },
   "file_extension": ".py",
   "mimetype": "text/x-python",
   "name": "python",
   "nbconvert_exporter": "python",
   "pygments_lexer": "ipython3",
   "version": "3.9.7"
  }
 },
 "nbformat": 4,
 "nbformat_minor": 5
}
